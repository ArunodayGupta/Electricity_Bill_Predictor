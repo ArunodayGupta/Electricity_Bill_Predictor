{
  "nbformat": 4,
  "nbformat_minor": 0,
  "metadata": {
    "colab": {
      "provenance": [],
      "authorship_tag": "ABX9TyM/U0JBGquiEQbFZiASzWGv",
      "include_colab_link": true
    },
    "kernelspec": {
      "name": "python3",
      "display_name": "Python 3"
    },
    "language_info": {
      "name": "python"
    }
  },
  "cells": [
    {
      "cell_type": "markdown",
      "metadata": {
        "id": "view-in-github",
        "colab_type": "text"
      },
      "source": [
        "<a href=\"https://colab.research.google.com/github/ArunodayGupta/Electricity_Bill_Predictor/blob/main/Bill_Predictor.ipynb\" target=\"_parent\"><img src=\"https://colab.research.google.com/assets/colab-badge.svg\" alt=\"Open In Colab\"/></a>"
      ]
    },
    {
      "cell_type": "code",
      "execution_count": 29,
      "metadata": {
        "colab": {
          "base_uri": "https://localhost:8080/"
        },
        "id": "Zcmr7_5P1Y12",
        "outputId": "a4a52b26-191e-49f4-ca89-296ff784df62"
      },
      "outputs": [
        {
          "output_type": "stream",
          "name": "stdout",
          "text": [
            "0.9999951989227878\n",
            "0.9999691975751025\n",
            "0.9956783337842975\n",
            "0.9955835759093056\n"
          ]
        }
      ],
      "source": [
        "import pandas as pd\n",
        "import numpy as np\n",
        "import matplotlib.pyplot as plt\n",
        "from sklearn.preprocessing import MinMaxScaler,OneHotEncoder\n",
        "from sklearn.model_selection import train_test_split\n",
        "from sklearn.ensemble import RandomForestRegressor\n",
        "\n",
        "#reading data from a csv file\n",
        "df=pd.read_csv(\"electricity_bill_dataset.csv\")\n",
        "\n",
        "#splitting the data into training and test data\n",
        "train_df,test_df=train_test_split(df,test_size=0.2)\n",
        "\n",
        "input_cols=list(train_df.columns)[0:-1]\n",
        "target_col=\"ElectricityBill\"\n",
        "\n",
        "train_input=train_df[input_cols].copy()\n",
        "train_target=train_df[target_col].copy()\n",
        "\n",
        "test_input=test_df[input_cols].copy()\n",
        "test_target=test_df[target_col].copy()\n",
        "\n",
        "#dividing the columns based on their datatype\n",
        "numeric_cols = train_input.select_dtypes(include=np.number).columns.tolist()\n",
        "categorical_cols = train_input.select_dtypes('object').columns.tolist()\n",
        "\n",
        "#using minmaxscaler to\n",
        "scaler = MinMaxScaler()\n",
        "scaler.fit(df[numeric_cols])\n",
        "\n",
        "train_input[numeric_cols]=scaler.transform(train_input[numeric_cols])\n",
        "test_input[numeric_cols]=scaler.transform(test_input[numeric_cols])\n",
        "\n",
        "train_input[numeric_cols].head()\n",
        "\n",
        "#using onehotencoder to encode the categorical values\n",
        "encoder=OneHotEncoder(sparse_output=False)\n",
        "encoder.fit(df[categorical_cols])\n",
        "encoded_cols = list(encoder.get_feature_names_out(categorical_cols))\n",
        "\n",
        "train_input[encoded_cols] = encoder.transform(train_input[categorical_cols])\n",
        "test_input[encoded_cols] = encoder.transform(test_input[categorical_cols])\n",
        "\n",
        "print(train_input.shape)\n",
        "print(train_target.shape)\n",
        "print(test_input.shape)\n",
        "print(test_target.shape)\n",
        "\n",
        "train_final=train_input[numeric_cols+encoded_cols]\n",
        "test_final=test_input[numeric_cols+encoded_cols]\n",
        "\n",
        "#using random forest model to predict the electricity bill\n",
        "model = RandomForestRegressor(n_jobs=-1, random_state=42)\n",
        "model.fit(train_final, train_target)\n",
        "#score for training data\n",
        "print(model.score(train_final, train_target))\n",
        "#score for target data\n",
        "print(model.score(test_final, test_target))\n",
        "\n",
        "#list of the features based on their importance in the model\n",
        "feature_importance = pd.Series(model.feature_importances_, index=train_final.columns).sort_values(ascending=False)\n",
        "print(feature_importance)"
      ]
    }
  ]
}